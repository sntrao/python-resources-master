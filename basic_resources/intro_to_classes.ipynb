{
 "cells": [
  {
   "cell_type": "markdown",
   "metadata": {},
   "source": [
    "# OOP and Classes\n",
    "\n",
    "### Quick Note\n",
    "\n",
    "This tutorial is part of the [Python Basic Resources](https://github.com/GalvanizeOpenSource/python-resources/tree/master/basic_resources) 4-part series produced by [Galvanize](http://www.galvanize.com/).\n",
    "\n",
    "This tutorial moves very fast. If you would like a slower, more in-depth intro to Python, we suggest you take our [Intro to Python Evening Course](http://www.galvanize.com/courses/intro-to-python/). It's the perfect way to become familiar with Python + gain experience using Python to solve challenging problems.\n",
    "\n",
    "### Prerequisites\n",
    "\n",
    "This document is a *Jupyter notebook*. If you are viewing it using GitHub, then you cannot execute the cells that contain Python code. To view **and run** this notebook you'll need to install Jupyter on your computer before you continue. See [these installation instructions](https://github.com/GalvanizeOpenSource/python-resources/tree/master/installation) for help!\n",
    "\n",
    "### Overview\n",
    "\n",
    "From [wikipedia](https://en.wikipedia.org/wiki/Object-oriented_programming): \"Object-oriented programming (OOP) is a programming paradigm based on the concept of \"objects\", which are data structures that contain data, in the form of fields, often known as attributes; and code, in the form of procedures, often known as methods.\"\n",
    "\n",
    "Object-oriented programming has many benefits (see *encapsulation*, *polymorphism*, and *inheritance* in the wiki), but it also kind of matches how we think about the world. The world is composed of *objects*, where objects can be people, houses, cars, buildings, etc. These *objects* have some properties about them (i.e. they contain data), and they can do things (i.e. they have methods that can be applied). Object oriented programming approaches a programming problem by using objects that interact with each other, much like they do in the real world. \n",
    "\n",
    "### Some Terminology \n",
    "\n",
    "1.) **Class** - used to refer to the abstract concept of an object.  \n",
    "2.) **Object** - An actual instance of a class.   \n",
    "3.) **Instance** - What Python returns when you tell it to create a class.   \n",
    "4.) **self** - Inside of a class, a variable for the instance/object being accessed (i.e. it holds a reference to the instance/object of that class).  \n",
    "5.) **attribute** / **field** / **property** - A property or piece of data that a class has, stored in a variable. All attributes/fields/properties within a class are assigned via self.  \n",
    "6.) **method** / **procedure** - A block of code that is accessible via the class, and typically acts on or with the classes attributes/fields/properties. All methods/procedures within a class are created via def. (they are really just functions). \n",
    "\n",
    "From here on out, I will treat attribute, field, and property as interchangeable, and I'll do the same with method and procedure. \n",
    "\n",
    "### Defining a Class \n",
    "\n",
    "Much like defining a function, there is a common format to defining a class. It is almost exactly the same as defining a function, but we replace `def` with `class`. That is, we write `class`, then the name of the class that we are defining, followed by a set of parentheses, and finally a colon. After the colon is an indented block of code that we use to define the class attributes and methods. One subtle difference is that with functions, the standard is to name these beginning in lowercase and seperating words with underscores (*snake_case*), while with classes, the standard is to name these beginning in uppercase, and not separate words at all (*CamelCase*). \n",
    "\n",
    "```python \n",
    "class MyClass(): \n",
    "    # Attributes and methods go in here. \n",
    "```\n",
    "\n",
    "### Instantiation\n",
    "\n",
    "Instantiation is just a fancy word for saying that we're going to create an instance of a particular class. \n",
    "\n",
    "```python \n",
    "my_class = MyClass() # Now we have my_class as an instance of MyClass\n",
    "```\n",
    "\n",
    "### Inner Workings \n",
    "\n",
    "Inside of a class, we can have both *attributes* and *methods*. We can then think of these *attributes* and *methods* as belonging to the class, and they become accessible via any instances of the class (through dot notation, which we'll get to in a second). Inside of the class, all of these *attributes* and *methods* are set and retrieved via *self*. Let's dive in...\n",
    "\n",
    "##### The \\__init\\__() method \n",
    "\n",
    "Almost every class you ever write will have an \\__init\\__() method. This method gets called every time that you create a new instance of a class, and handles any kind of setup that the class may require. Setup typically just involves assigning values to variables, which we can do with or without passing values in. "
   ]
  },
  {
   "cell_type": "code",
   "execution_count": 1,
   "metadata": {
    "collapsed": false
   },
   "outputs": [
    {
     "name": "stdout",
     "output_type": "stream",
     "text": [
      "Data Science\n"
     ]
    }
   ],
   "source": [
    "class MyClass(): \n",
    "    \n",
    "    def __init__(self):\n",
    "        # No values have been passed in here. \n",
    "        self.meetup_name = 'Data Science'\n",
    "\n",
    "my_class = MyClass()\n",
    "print my_class.meetup_name # Note the dot notation here to access the 'meetup_name' field. "
   ]
  },
  {
   "cell_type": "code",
   "execution_count": 2,
   "metadata": {
    "collapsed": false
   },
   "outputs": [
    {
     "name": "stdout",
     "output_type": "stream",
     "text": [
      "Data Science\n"
     ]
    }
   ],
   "source": [
    "class MyClass(): \n",
    "    \n",
    "    def __init__(self, meetup_name):\n",
    "        # Here we passed the value that will be assigned in. Note the assignment using self. \n",
    "        self.meetup_name = meetup_name\n",
    "\n",
    "my_class = MyClass('Data Science')\n",
    "print my_class.meetup_name"
   ]
  },
  {
   "cell_type": "markdown",
   "metadata": {},
   "source": [
    "##### What happens if we don't use self?"
   ]
  },
  {
   "cell_type": "code",
   "execution_count": 3,
   "metadata": {
    "collapsed": false
   },
   "outputs": [
    {
     "ename": "AttributeError",
     "evalue": "MyClass instance has no attribute 'meetup_name'",
     "output_type": "error",
     "traceback": [
      "\u001b[0;31m---------------------------------------------------------------------------\u001b[0m",
      "\u001b[0;31mAttributeError\u001b[0m                            Traceback (most recent call last)",
      "\u001b[0;32m<ipython-input-3-ee58f148da2d>\u001b[0m in \u001b[0;36m<module>\u001b[0;34m()\u001b[0m\n\u001b[1;32m      6\u001b[0m \u001b[0;34m\u001b[0m\u001b[0m\n\u001b[1;32m      7\u001b[0m \u001b[0mmy_class\u001b[0m \u001b[0;34m=\u001b[0m \u001b[0mMyClass\u001b[0m\u001b[0;34m(\u001b[0m\u001b[0;34m'Data Science'\u001b[0m\u001b[0;34m)\u001b[0m\u001b[0;34m\u001b[0m\u001b[0m\n\u001b[0;32m----> 8\u001b[0;31m \u001b[0;32mprint\u001b[0m \u001b[0mmy_class\u001b[0m\u001b[0;34m.\u001b[0m\u001b[0mmeetup_name\u001b[0m\u001b[0;34m\u001b[0m\u001b[0m\n\u001b[0m",
      "\u001b[0;31mAttributeError\u001b[0m: MyClass instance has no attribute 'meetup_name'"
     ]
    }
   ],
   "source": [
    "class MyClass(): \n",
    "    \n",
    "    def __init__(self, meetup_name):\n",
    "        # Here we passed the value that will be assigned in. \n",
    "        meetup_name = meetup_name\n",
    "\n",
    "my_class = MyClass('Data Science')\n",
    "print my_class.meetup_name"
   ]
  },
  {
   "cell_type": "markdown",
   "metadata": {},
   "source": [
    "#### Magic Methods\n",
    "\n",
    "The \\__init\\__()  method is a special type of [**magic method**](http://www.rafekettler.com/magicmethods.html). Magic methods allow you to build a lot of functionality into your classes, most of which allow you to interact with your classes using a lot of the built-in functions. I don't use these often in my day to day, but the \\__len\\__(), \\__str\\__(), \\__repr__\\() ones are pretty common. The first lets you use the len() function on instances of your class, and the second to allow you to define a readable display of an instance of your class (used when printing or applying the str() function). \n",
    "\n",
    "#### Other Methods \n",
    "\n",
    "We can of course define other methods of our classes..."
   ]
  },
  {
   "cell_type": "code",
   "execution_count": 5,
   "metadata": {
    "collapsed": false
   },
   "outputs": [
    {
     "name": "stdout",
     "output_type": "stream",
     "text": [
      "Data Science\n",
      "[]\n",
      "[]\n"
     ]
    }
   ],
   "source": [
    "class MyClass(): \n",
    "    \n",
    "    def __init__(self, meetup_name='Data Science'):\n",
    "        # Here we passed the value that will be assigned in. \n",
    "        self.meetup_name = meetup_name\n",
    "        self.meetup_questions = []\n",
    "        self.meetup_answers = []\n",
    "    \n",
    "    def add_question(self, question):\n",
    "        # Note the referal to the meetup_questions field via self. \n",
    "        self.meetup_questions.append(question)\n",
    "    \n",
    "    def add_answer(self, answer): \n",
    "        self.meetup_answers.append(answer)\n",
    "        \n",
    "my_class = MyClass()\n",
    "print my_class.meetup_name\n",
    "print my_class.meetup_questions\n",
    "print my_class.meetup_answers"
   ]
  },
  {
   "cell_type": "code",
   "execution_count": 6,
   "metadata": {
    "collapsed": true
   },
   "outputs": [],
   "source": [
    "my_class.add_question('What question should I ask?')\n",
    "my_class.add_answer('Think of anything!')"
   ]
  },
  {
   "cell_type": "code",
   "execution_count": 7,
   "metadata": {
    "collapsed": false
   },
   "outputs": [
    {
     "name": "stdout",
     "output_type": "stream",
     "text": [
      "Data Science\n",
      "['What question should I ask?']\n",
      "['Think of anything!']\n"
     ]
    }
   ],
   "source": [
    "print my_class.meetup_name\n",
    "print my_class.meetup_questions\n",
    "print my_class.meetup_answers"
   ]
  },
  {
   "cell_type": "markdown",
   "metadata": {},
   "source": [
    "### Using Multiple Objects\n",
    "\n",
    "That's the whole point of them, right?"
   ]
  },
  {
   "cell_type": "code",
   "execution_count": 9,
   "metadata": {
    "collapsed": true
   },
   "outputs": [],
   "source": [
    "class Member(): \n",
    "    \n",
    "    def __init__(self, name): \n",
    "        self.name = name\n",
    "        self.questions_asked = []\n",
    "        self.question_answers = []\n",
    "    \n",
    "    def add_question(self, question): \n",
    "        self.questions_asked.append(question)\n",
    "    \n",
    "    def add_answer(self, question): \n",
    "        self.question_answers.append(question)\n",
    "        \n",
    "class MyClass(): \n",
    "    \n",
    "    def __init__(self, name='Data Science'): \n",
    "        self.name = name\n",
    "        self.members = []\n",
    "    \n",
    "    def num_questions_asked(self): \n",
    "        total_questions = 0\n",
    "        for member in members: \n",
    "            total_questions += len(member.questions_asked)\n",
    "        \n",
    "        return total_questions\n",
    "        \n",
    "    def num_questions_answered(self): \n",
    "        total_questions = 0\n",
    "        for member in members: \n",
    "            total_questions += len(member.question_answers)\n",
    "        \n",
    "        return total_questions"
   ]
  },
  {
   "cell_type": "code",
   "execution_count": 10,
   "metadata": {
    "collapsed": false
   },
   "outputs": [
    {
     "name": "stdout",
     "output_type": "stream",
     "text": [
      "Data Science\n",
      "Josh\n",
      "Joanna\n",
      "Sean\n"
     ]
    }
   ],
   "source": [
    "# Create some members. \n",
    "josh = Member('Josh')\n",
    "joanna = Member('Joanna')\n",
    "sean = Member('Sean')\n",
    "members = [josh, joanna, sean]\n",
    "\n",
    "# Create a class and add the members to it. \n",
    "my_class = MyClass()\n",
    "my_class.members = members\n",
    "print my_class.name\n",
    "for member in my_class.members: \n",
    "    print member.name"
   ]
  },
  {
   "cell_type": "code",
   "execution_count": 11,
   "metadata": {
    "collapsed": false
   },
   "outputs": [
    {
     "name": "stdout",
     "output_type": "stream",
     "text": [
      "1\n",
      "1\n"
     ]
    }
   ],
   "source": [
    "josh.add_question('Hellooooo?')\n",
    "joanna.add_answer('???????')\n",
    "\n",
    "print my_class.num_questions_asked()\n",
    "print my_class.num_questions_answered()"
   ]
  },
  {
   "cell_type": "markdown",
   "metadata": {
    "collapsed": true
   },
   "source": [
    "# Want some practice?\n",
    "\n",
    "Have a look at the `intro_classes_practice.ipynb` notebook!"
   ]
  },
  {
   "cell_type": "markdown",
   "metadata": {},
   "source": [
    "# Next Steps\n",
    "\n",
    "Next, you can finish this [Python Basic Resources](https://github.com/GalvanizeOpenSource/python-resources/tree/master/basic_resources) series. (You just completed part 2 of 4, so keep it up!)\n",
    "\n",
    "If you want to see Python in-action exploring a real dataset, have a look at [Exploring Data with Python using Jupyter Notebooks](https://github.com/GalvanizeOpenSource/python-resources/tree/master/exploring_data)."
   ]
  },
  {
   "cell_type": "code",
   "execution_count": null,
   "metadata": {
    "collapsed": true
   },
   "outputs": [],
   "source": []
  }
 ],
 "metadata": {
  "kernelspec": {
   "display_name": "Python 2",
   "language": "python",
   "name": "python2"
  },
  "language_info": {
   "codemirror_mode": {
    "name": "ipython",
    "version": 2
   },
   "file_extension": ".py",
   "mimetype": "text/x-python",
   "name": "python",
   "nbconvert_exporter": "python",
   "pygments_lexer": "ipython2",
   "version": "2.7.12"
  }
 },
 "nbformat": 4,
 "nbformat_minor": 0
}
