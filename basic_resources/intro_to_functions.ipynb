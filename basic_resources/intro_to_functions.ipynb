{
 "cells": [
  {
   "cell_type": "markdown",
   "metadata": {},
   "source": [
    "# Functions\n",
    "\n",
    "### Quick Note\n",
    "\n",
    "This tutorial is part of the [Python Basic Resources](https://github.com/GalvanizeOpenSource/python-resources/tree/master/basic_resources) 4-part series produced by [Galvanize](http://www.galvanize.com/).\n",
    "\n",
    "This tutorial moves very fast. If you would like a slower, more in-depth intro to Python, we suggest you take our [Intro to Python Evening Course](http://www.galvanize.com/courses/intro-to-python/). It's the perfect way to become familiar with Python + gain experience using Python to solve challenging problems.\n",
    "\n",
    "### Prerequisites\n",
    "\n",
    "This document is a *Jupyter notebook*. If you are viewing it using GitHub, then you cannot execute the cells that contain Python code. To view **and run** this notebook you'll need to install Jupyter on your computer before you continue. See [these installation instructions](https://github.com/GalvanizeOpenSource/python-resources/tree/master/installation) for help!\n",
    "\n",
    "### Overview\n",
    "\n",
    "Functions are an essential part of coding and are a way of defining a procedure that you can reuse. They are incredibly helpful in writing clean, readable, and reusable code. I would encourage you to code using functions (or classes) whenever you can. \n",
    "\n",
    "Python has a very large number of built-in functions, as well as a vast repository of modules/libraries through which other functions (as well as classes) are available. Check out the [built-in function docs](https://docs.python.org/2/library/functions.html) to see all of the built-in functions that are available to use. One of the libraries whose functions I use regularly is the [itertools](https://docs.python.org/2/library/itertools.html) library. \n",
    "\n",
    "From a top-down level, functions name a piece of code that takes parameter(s) and allows you to write \"tiny commands\". The purpose/use of a functions should typically be able to be described in one sentence, and on average functions should probably be no longer than 10 lines.\n",
    "\n",
    "### How do I create them?\n",
    "\n",
    "Functions are defined using a `def` statement, followed by the name that you wish to give the function (this name should follow variable naming conventions - `camel_case` in Python), followed by a set of parentheses that contain any potential parameters that may be passed to the function. Next, we place a colon, and then finally we get to write code for the function body. This code must fall on one or more indented lines (note that the indentation is **crucial**). \n",
    "\n",
    "```python \n",
    "def my_func(passed_arg1, passed_arg2, passed_arg3): \n",
    "    # code goes here \n",
    "    pass\n",
    "```\n",
    "\n",
    "Note that we don't have to pass any parameters if we don't want to: \n",
    "\n",
    "```python \n",
    "def my_func_no_args(): \n",
    "    print 'There are no args passed :) ' \n",
    "```"
   ]
  },
  {
   "cell_type": "markdown",
   "metadata": {},
   "source": [
    "### Examples"
   ]
  },
  {
   "cell_type": "code",
   "execution_count": 1,
   "metadata": {
    "collapsed": false
   },
   "outputs": [
    {
     "name": "stdout",
     "output_type": "stream",
     "text": [
      "False\n",
      "True\n"
     ]
    }
   ],
   "source": [
    "def is_palindrome(word): \n",
    "    '''\n",
    "    Input: String\n",
    "    Output: Bool\n",
    "    \n",
    "    Return whether or not the inputted word is a palindrome. \n",
    "    '''\n",
    "    \n",
    "    # Note we use return to return something back from the function. \n",
    "    return word == word[::-1]\n",
    "\n",
    "print is_palindrome('hello')\n",
    "print is_palindrome('racecar')"
   ]
  },
  {
   "cell_type": "code",
   "execution_count": 2,
   "metadata": {
    "collapsed": false
   },
   "outputs": [
    {
     "name": "stdout",
     "output_type": "stream",
     "text": [
      "[1, 2, 5, 10]\n",
      "[1, 2, 4, 5, 10, 20, 25, 50, 100]\n"
     ]
    }
   ],
   "source": [
    "def get_divisors(number):\n",
    "    '''\n",
    "    Input: Integer\n",
    "    Output: List\n",
    "\n",
    "    Return a list of the divisors of the inputted number\n",
    "    '''\n",
    "    # The return statement can return any kind of data structure. \n",
    "    return [divisor for divisor in xrange(1, number + 1) if number % divisor == 0]\n",
    "\n",
    "print get_divisors(10)\n",
    "print get_divisors(100)"
   ]
  },
  {
   "cell_type": "markdown",
   "metadata": {},
   "source": [
    "### Variable Scope\n",
    "\n",
    "Variable scope is an important concept to consider when building functions. Knowing how variable scope works will save you from many kinds of common bugs. \n",
    "\n",
    "**Variable scope** determines the part (or block) of the program in which that variable is visible. We typically refer to one of two scopes of variables - **global** scope and **local** scope. A variable with **global** scope is visible everywhere and can be used by any function, while a variable with **local** scope is visible only in the function in which it was defined. "
   ]
  },
  {
   "cell_type": "code",
   "execution_count": 3,
   "metadata": {
    "collapsed": true
   },
   "outputs": [],
   "source": [
    "my_global_var = 'This is a global variable.'\n",
    "\n",
    "def scoping_func(): \n",
    "    my_local_var = 'This is a local variable, only usable in the scoping_func.'\n",
    "    print my_local_var"
   ]
  },
  {
   "cell_type": "code",
   "execution_count": 4,
   "metadata": {
    "collapsed": false
   },
   "outputs": [
    {
     "name": "stdout",
     "output_type": "stream",
     "text": [
      "This is a global variable.\n"
     ]
    }
   ],
   "source": [
    "print my_global_var"
   ]
  },
  {
   "cell_type": "code",
   "execution_count": 5,
   "metadata": {
    "collapsed": false
   },
   "outputs": [
    {
     "ename": "NameError",
     "evalue": "name 'my_local_var' is not defined",
     "output_type": "error",
     "traceback": [
      "\u001b[0;31m---------------------------------------------------------------------------\u001b[0m",
      "\u001b[0;31mNameError\u001b[0m                                 Traceback (most recent call last)",
      "\u001b[0;32m<ipython-input-5-b0b2b2a41781>\u001b[0m in \u001b[0;36m<module>\u001b[0;34m()\u001b[0m\n\u001b[0;32m----> 1\u001b[0;31m \u001b[0;32mprint\u001b[0m \u001b[0mmy_local_var\u001b[0m\u001b[0;34m\u001b[0m\u001b[0m\n\u001b[0m",
      "\u001b[0;31mNameError\u001b[0m: name 'my_local_var' is not defined"
     ]
    }
   ],
   "source": [
    "print my_local_var"
   ]
  },
  {
   "cell_type": "code",
   "execution_count": 6,
   "metadata": {
    "collapsed": false
   },
   "outputs": [
    {
     "name": "stdout",
     "output_type": "stream",
     "text": [
      "This is a local variable, only usable in the scoping_func.\n"
     ]
    }
   ],
   "source": [
    "scoping_func()"
   ]
  },
  {
   "cell_type": "markdown",
   "metadata": {},
   "source": [
    "### Variable Scope Part Two\n",
    "\n",
    "When **referencing** a variable in an expression, Python will search the following scopes to resolve the reference: \n",
    "\n",
    "1.) The current function's scope.   \n",
    "2.) Any enclosing scopes (like other containing functions).   \n",
    "3.) The scope of the module that contains the code (also called *global scope*).   \n",
    "4.) The built-in scope (contains the built-in functions).  \n",
    "\n",
    "When **assigning** a value to a variable, things work a little bit differently. If the variable is **already defined** in the current scope, then it will just take on the new value that you assign it. However, if it is **not defined** in the **current** scope, then Python treats the assignment as a variable definition. Let's take a look at how this plays out..."
   ]
  },
  {
   "cell_type": "code",
   "execution_count": 7,
   "metadata": {
    "collapsed": false
   },
   "outputs": [
    {
     "name": "stdout",
     "output_type": "stream",
     "text": [
      "False\n",
      "False\n",
      "False\n",
      "False\n",
      "False\n"
     ]
    }
   ],
   "source": [
    "# This 'found' is in the global scope, so everything has access to it. \n",
    "found = True\n",
    "def find_number(numbers_lst, search_number): \n",
    "    # This 'found' is in the scope of 'find_number', and anything that is enclosed in it. \n",
    "    found = False\n",
    "    def inner_func(): \n",
    "        for num in numbers_lst:      \n",
    "            # This has access to the current function's scope and anything above it. So when \n",
    "            # it looks for the 'found' variable, it doesn't find it in the 'innner_func' scope, \n",
    "            # but does find it in the containing function's ('find_number') scope. Since it \n",
    "            # find's it in the 'find_number' scope, it doesn't keep looking, and so it never \n",
    "            # find's the one in the global scope. \n",
    "            print found\n",
    "    inner_func()\n",
    "        \n",
    "find_number([1, 2, 3, 4, 5], 3)"
   ]
  },
  {
   "cell_type": "code",
   "execution_count": 8,
   "metadata": {
    "collapsed": false
   },
   "outputs": [
    {
     "name": "stdout",
     "output_type": "stream",
     "text": [
      "True\n",
      "False\n"
     ]
    }
   ],
   "source": [
    "def find_number(numbers_lst, search_number): \n",
    "    # This 'found' is in the scope of 'find_number', and anything that is enclosed in it. \n",
    "    found = False\n",
    "    def inner_func(): \n",
    "        for num in numbers_lst:  \n",
    "            if num == search_number: \n",
    "                # With assignment, it doesn't find it in it's own scope, so it creates it. \n",
    "                # This causes us to print True at the end of this inner function. \n",
    "                found = True\n",
    "        print found\n",
    "    inner_func()\n",
    "    return found\n",
    "        \n",
    "print find_number([1, 2, 3, 4, 5], 3)"
   ]
  },
  {
   "cell_type": "markdown",
   "metadata": {},
   "source": [
    "### Giving parameters default values\n",
    "\n",
    "If you'd like, you can give your function parameters default values. You do this within the function definition statement: \n",
    "\n",
    "```python \n",
    "def find_number(numbers_lst, search_number=3):\n",
    "    for num in numbers_lst: \n",
    "        if num == search_number: \n",
    "            print 'Found'\n",
    "```\n",
    "\n",
    "The way this works is that if the caller of your function passes in a value for search_number, the function uses that. If the caller doesn't pass in a value for search_number, then your function uses the default value that you gave it. \n",
    "\n",
    "Note that you can also call your functions with either positional parameters (like I have done up until now), or with keyword parameters. The only stipulation is that all positional parameters must be placed before all keyword parameters (i.e. you can't call your function with a keyword parameter placed before a positional parameter). "
   ]
  },
  {
   "cell_type": "code",
   "execution_count": 9,
   "metadata": {
    "collapsed": false
   },
   "outputs": [
    {
     "ename": "SyntaxError",
     "evalue": "non-keyword arg after keyword arg (<ipython-input-9-7fb3b12a3762>, line 9)",
     "output_type": "error",
     "traceback": [
      "\u001b[0;36m  File \u001b[0;32m\"<ipython-input-9-7fb3b12a3762>\"\u001b[0;36m, line \u001b[0;32m9\u001b[0m\n\u001b[0;31m    find_number(numbers_lst=[1, 2, 3, 4, 5], 4) # Not okay, because we specified a keyword argument before a positional.\u001b[0m\n\u001b[0;31mSyntaxError\u001b[0m\u001b[0;31m:\u001b[0m non-keyword arg after keyword arg\n"
     ]
    }
   ],
   "source": [
    "def find_number(numbers_lst, search_number=3):\n",
    "    for num in numbers_lst: \n",
    "        if num == search_number: \n",
    "            print 'Found'\n",
    "\n",
    "find_number([1, 2, 3, 4, 5]) # Okay because we specified default value. \n",
    "find_number([1, 2, 3, 4, 5], 4) # The second passed parameter (4) overrides the default 3. \n",
    "find_number([1, 2, 3, 4, 5], search_number=4) # Okay because all positional parameters specified first. \n",
    "find_number(numbers_lst=[1, 2, 3, 4, 5], 4) # Not okay, because we specified a keyword parameter before a positional."
   ]
  },
  {
   "cell_type": "markdown",
   "metadata": {},
   "source": [
    "### *args and *kwargs\n",
    "\n",
    "The use of `*args` and `**kwargs` is something that you might see or use with your function. This is one of the really nice features of Python (although I don't use it often); it allows your functions to accept an arbitrary number of optional arguments. `*args` allows you to accept an arbitrary of number of optional positional arguments, where as `**kwargs`, which stands for *keyword arguments*, allows you to accept an arbitrary number of optional keyword arguments. "
   ]
  },
  {
   "cell_type": "code",
   "execution_count": 10,
   "metadata": {
    "collapsed": true
   },
   "outputs": [],
   "source": [
    "def args_func(first_arg, *args): \n",
    "    print first_arg\n",
    "    for arg in args: \n",
    "        print arg"
   ]
  },
  {
   "cell_type": "code",
   "execution_count": 11,
   "metadata": {
    "collapsed": false
   },
   "outputs": [
    {
     "name": "stdout",
     "output_type": "stream",
     "text": [
      "1\n"
     ]
    }
   ],
   "source": [
    "args_func(1)"
   ]
  },
  {
   "cell_type": "code",
   "execution_count": 12,
   "metadata": {
    "collapsed": false
   },
   "outputs": [
    {
     "name": "stdout",
     "output_type": "stream",
     "text": [
      "1\n",
      "2\n",
      "3\n",
      "4\n"
     ]
    }
   ],
   "source": [
    "args_func(1, 2, 3, 4)"
   ]
  },
  {
   "cell_type": "code",
   "execution_count": 13,
   "metadata": {
    "collapsed": false
   },
   "outputs": [
    {
     "name": "stdout",
     "output_type": "stream",
     "text": [
      "1\n",
      "[2, 3, 4]\n"
     ]
    }
   ],
   "source": [
    "args_func(1, [2, 3, 4])"
   ]
  },
  {
   "cell_type": "code",
   "execution_count": 14,
   "metadata": {
    "collapsed": true
   },
   "outputs": [],
   "source": [
    "def kwargs_func(first_arg, **kwargs): \n",
    "    print first_arg\n",
    "    for kwarg, value in kwargs.iteritems(): \n",
    "        print kwarg, value"
   ]
  },
  {
   "cell_type": "code",
   "execution_count": 15,
   "metadata": {
    "collapsed": false
   },
   "outputs": [
    {
     "name": "stdout",
     "output_type": "stream",
     "text": [
      "1\n"
     ]
    }
   ],
   "source": [
    "kwargs_func(1)"
   ]
  },
  {
   "cell_type": "code",
   "execution_count": 16,
   "metadata": {
    "collapsed": false
   },
   "outputs": [
    {
     "ename": "TypeError",
     "evalue": "kwargs_func() takes exactly 1 argument (4 given)",
     "output_type": "error",
     "traceback": [
      "\u001b[0;31m---------------------------------------------------------------------------\u001b[0m",
      "\u001b[0;31mTypeError\u001b[0m                                 Traceback (most recent call last)",
      "\u001b[0;32m<ipython-input-16-6a6dffd7d4b0>\u001b[0m in \u001b[0;36m<module>\u001b[0;34m()\u001b[0m\n\u001b[0;32m----> 1\u001b[0;31m \u001b[0mkwargs_func\u001b[0m\u001b[0;34m(\u001b[0m\u001b[0;36m1\u001b[0m\u001b[0;34m,\u001b[0m \u001b[0;36m2\u001b[0m\u001b[0;34m,\u001b[0m \u001b[0;36m3\u001b[0m\u001b[0;34m,\u001b[0m \u001b[0;36m4\u001b[0m\u001b[0;34m)\u001b[0m\u001b[0;34m\u001b[0m\u001b[0m\n\u001b[0m",
      "\u001b[0;31mTypeError\u001b[0m: kwargs_func() takes exactly 1 argument (4 given)"
     ]
    }
   ],
   "source": [
    "kwargs_func(1, 2, 3, 4)"
   ]
  },
  {
   "cell_type": "code",
   "execution_count": 17,
   "metadata": {
    "collapsed": false
   },
   "outputs": [
    {
     "name": "stdout",
     "output_type": "stream",
     "text": [
      "1\n",
      "second_arg 2\n",
      "fourth_arg 4\n",
      "third_arg 3\n"
     ]
    }
   ],
   "source": [
    "kwargs_func(1, second_arg=2, third_arg=3, fourth_arg=4)"
   ]
  },
  {
   "cell_type": "markdown",
   "metadata": {
    "collapsed": true
   },
   "source": [
    "# Want some practice?\n",
    "\n",
    "Have a look at the `intro_function_practice.ipynb` notebook!"
   ]
  },
  {
   "cell_type": "markdown",
   "metadata": {
    "collapsed": true
   },
   "source": [
    "# Next Steps\n",
    "\n",
    "Next, you can finish this [Python Basic Resources](https://github.com/GalvanizeOpenSource/python-resources/tree/master/basic_resources) series. (You just completed part 1 of 4, so keep it up!)\n",
    "\n",
    "If you want to see Python in-action exploring a real dataset, have a look at [Exploring Data with Python using Jupyter Notebooks](https://github.com/GalvanizeOpenSource/python-resources/tree/master/exploring_data)."
   ]
  },
  {
   "cell_type": "code",
   "execution_count": null,
   "metadata": {
    "collapsed": true
   },
   "outputs": [],
   "source": []
  }
 ],
 "metadata": {
  "kernelspec": {
   "display_name": "Python 2",
   "language": "python",
   "name": "python2"
  },
  "language_info": {
   "codemirror_mode": {
    "name": "ipython",
    "version": 2
   },
   "file_extension": ".py",
   "mimetype": "text/x-python",
   "name": "python",
   "nbconvert_exporter": "python",
   "pygments_lexer": "ipython2",
   "version": "2.7.12"
  }
 },
 "nbformat": 4,
 "nbformat_minor": 0
}
