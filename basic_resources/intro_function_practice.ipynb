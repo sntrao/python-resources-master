{
 "cells": [
  {
   "cell_type": "markdown",
   "metadata": {},
   "source": [
    "# Practice with Functions\n",
    "\n",
    "### Finish these functions..."
   ]
  },
  {
   "cell_type": "code",
   "execution_count": 1,
   "metadata": {
    "collapsed": true
   },
   "outputs": [],
   "source": [
    "def calc_factorial(number):\n",
    "    '''\n",
    "    Input: Integer\n",
    "    Output: Integer\n",
    "    \n",
    "    Compute the factorial for the given number. \n",
    "    '''\n",
    "    \n",
    "    fact = 1\n",
    "    for number in xrange(1, number + 1): \n",
    "        pass "
   ]
  },
  {
   "cell_type": "code",
   "execution_count": 2,
   "metadata": {
    "collapsed": true
   },
   "outputs": [],
   "source": [
    "def get_word_count(string): \n",
    "    '''\n",
    "    Input: String\n",
    "    Output: Dictionary \n",
    "    \n",
    "    For the inputted string, return a dictionary where the keys are the individual words, \n",
    "    and the values are the number of times that word appeared in the string. We're not \n",
    "    worried about punctuation at this point. \n",
    "    '''\n",
    "    words = string.split()\n",
    "    pass"
   ]
  },
  {
   "cell_type": "code",
   "execution_count": 3,
   "metadata": {
    "collapsed": true
   },
   "outputs": [],
   "source": [
    "def find_odd_sums(n): \n",
    "    '''\n",
    "    Input: Integer\n",
    "    Output: Integer\n",
    "    \n",
    "    Find the sum of all odd integers less than n. \n",
    "    '''\n",
    "    pass"
   ]
  },
  {
   "cell_type": "code",
   "execution_count": 4,
   "metadata": {
    "collapsed": true
   },
   "outputs": [],
   "source": [
    "def say_hello(name): \n",
    "    '''\n",
    "    Input: String\n",
    "    \n",
    "    For the inputted name, print hello to the person.\n",
    "    \n",
    "    Hint: Check out string formatting and/or string concatenation. \n",
    "    '''\n",
    "    pass"
   ]
  },
  {
   "cell_type": "code",
   "execution_count": 5,
   "metadata": {
    "collapsed": true
   },
   "outputs": [],
   "source": [
    "def check_prime(int): \n",
    "    '''\n",
    "    Input: Integer\n",
    "    Output: Boolean \n",
    "    \n",
    "    Return whether or not the inputted number is prime. \n",
    "    '''\n",
    "    pass"
   ]
  },
  {
   "cell_type": "markdown",
   "metadata": {},
   "source": [
    "Now that you've finished, check out the *math* module, specifically the *factorial* function, and also the *collections* module, specifically the *Counter* class. "
   ]
  },
  {
   "cell_type": "markdown",
   "metadata": {},
   "source": [
    "# Practice with Imports \n",
    "\n",
    "To get some practice with what the kind of general workflow is in Python (where you build functions in certain files, then import those functions to use in your program), take each of the functions you finished in the first part, and save in its own file (so  you should have 3 files). Next, write a new script/python program that imports each of these functions and calls it. "
   ]
  },
  {
   "cell_type": "code",
   "execution_count": null,
   "metadata": {
    "collapsed": true
   },
   "outputs": [],
   "source": []
  }
 ],
 "metadata": {
  "kernelspec": {
   "display_name": "Python 2",
   "language": "python",
   "name": "python2"
  },
  "language_info": {
   "codemirror_mode": {
    "name": "ipython",
    "version": 2
   },
   "file_extension": ".py",
   "mimetype": "text/x-python",
   "name": "python",
   "nbconvert_exporter": "python",
   "pygments_lexer": "ipython2",
   "version": "2.7.12"
  }
 },
 "nbformat": 4,
 "nbformat_minor": 0
}
